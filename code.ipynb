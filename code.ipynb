{
 "cells": [
  {
   "cell_type": "code",
   "execution_count": 1,
   "metadata": {
    "id": "LNLC5FLhr4zZ"
   },
   "outputs": [],
   "source": [
    "import warnings\n",
    "warnings.filterwarnings('ignore')\n",
    "\n",
    "import os\n",
    "os.environ['TF_CPP_MIN_LOG_LEVEL'] = '3'"
   ]
  },
  {
   "cell_type": "code",
   "execution_count": 2,
   "metadata": {},
   "outputs": [],
   "source": [
    "import pandas as pd\n",
    "import nltk\n",
    "import re\n",
    "import tensorflow as tf\n",
    "from tensorflow import keras\n",
    "from keras.layers import Dense\n",
    "from tensorflow.keras import layers\n",
    "from keras.models import Sequential\n",
    "from tensorflow.keras.preprocessing.text import Tokenizer\n",
    "from tensorflow.keras.preprocessing.sequence import pad_sequences"
   ]
  },
  {
   "cell_type": "code",
   "execution_count": 3,
   "metadata": {
    "colab": {
     "base_uri": "https://localhost:8080/"
    },
    "id": "gZxmmKSUt3yF",
    "outputId": "d3bffb56-0749-444e-9b50-0a65b5147709"
   },
   "outputs": [
    {
     "name": "stderr",
     "output_type": "stream",
     "text": [
      "[nltk_data] Downloading package stopwords to\n",
      "[nltk_data]     /home/manoj.peta/nltk_data...\n",
      "[nltk_data]   Package stopwords is already up-to-date!\n",
      "[nltk_data] Downloading package punkt to /home/manoj.peta/nltk_data...\n",
      "[nltk_data]   Package punkt is already up-to-date!\n"
     ]
    },
    {
     "data": {
      "text/plain": [
       "True"
      ]
     },
     "execution_count": 3,
     "metadata": {},
     "output_type": "execute_result"
    }
   ],
   "source": [
    "nltk.download('stopwords')\n",
    "nltk.download('punkt')"
   ]
  },
  {
   "cell_type": "code",
   "execution_count": 4,
   "metadata": {
    "colab": {
     "base_uri": "https://localhost:8080/",
     "height": 206
    },
    "id": "GEKmMA9WsU0r",
    "outputId": "d5b52409-8d3e-417f-cf75-f3d1ce37da1c"
   },
   "outputs": [
    {
     "data": {
      "text/html": [
       "<div>\n",
       "<style scoped>\n",
       "    .dataframe tbody tr th:only-of-type {\n",
       "        vertical-align: middle;\n",
       "    }\n",
       "\n",
       "    .dataframe tbody tr th {\n",
       "        vertical-align: top;\n",
       "    }\n",
       "\n",
       "    .dataframe thead th {\n",
       "        text-align: right;\n",
       "    }\n",
       "</style>\n",
       "<table border=\"1\" class=\"dataframe\">\n",
       "  <thead>\n",
       "    <tr style=\"text-align: right;\">\n",
       "      <th></th>\n",
       "      <th>text</th>\n",
       "      <th>stars</th>\n",
       "    </tr>\n",
       "  </thead>\n",
       "  <tbody>\n",
       "    <tr>\n",
       "      <th>0</th>\n",
       "      <td>Went for lunch and found that my burger was me...</td>\n",
       "      <td>2.0</td>\n",
       "    </tr>\n",
       "    <tr>\n",
       "      <th>1</th>\n",
       "      <td>I needed a new tires for my wife's car. They h...</td>\n",
       "      <td>5.0</td>\n",
       "    </tr>\n",
       "    <tr>\n",
       "      <th>2</th>\n",
       "      <td>Jim Woltman who works at Goleta Honda is 5 sta...</td>\n",
       "      <td>5.0</td>\n",
       "    </tr>\n",
       "    <tr>\n",
       "      <th>3</th>\n",
       "      <td>Been here a few times to get some shrimp.  The...</td>\n",
       "      <td>4.0</td>\n",
       "    </tr>\n",
       "    <tr>\n",
       "      <th>4</th>\n",
       "      <td>This is one fantastic place to eat whether you...</td>\n",
       "      <td>5.0</td>\n",
       "    </tr>\n",
       "  </tbody>\n",
       "</table>\n",
       "</div>"
      ],
      "text/plain": [
       "                                                text  stars\n",
       "0  Went for lunch and found that my burger was me...    2.0\n",
       "1  I needed a new tires for my wife's car. They h...    5.0\n",
       "2  Jim Woltman who works at Goleta Honda is 5 sta...    5.0\n",
       "3  Been here a few times to get some shrimp.  The...    4.0\n",
       "4  This is one fantastic place to eat whether you...    5.0"
      ]
     },
     "execution_count": 4,
     "metadata": {},
     "output_type": "execute_result"
    }
   ],
   "source": [
    "df = pd.read_csv('yelp_review_train.csv')\n",
    "\n",
    "df.head()"
   ]
  },
  {
   "cell_type": "markdown",
   "metadata": {
    "id": "Qyu6DiiDtLXi"
   },
   "source": [
    "# Preprocessing"
   ]
  },
  {
   "cell_type": "code",
   "execution_count": 5,
   "metadata": {
    "colab": {
     "base_uri": "https://localhost:8080/",
     "height": 206
    },
    "id": "oNQIWgnes1QU",
    "outputId": "77fd3f11-2d9f-4db9-caf4-9a765a8e8ac6"
   },
   "outputs": [
    {
     "data": {
      "text/html": [
       "<div>\n",
       "<style scoped>\n",
       "    .dataframe tbody tr th:only-of-type {\n",
       "        vertical-align: middle;\n",
       "    }\n",
       "\n",
       "    .dataframe tbody tr th {\n",
       "        vertical-align: top;\n",
       "    }\n",
       "\n",
       "    .dataframe thead th {\n",
       "        text-align: right;\n",
       "    }\n",
       "</style>\n",
       "<table border=\"1\" class=\"dataframe\">\n",
       "  <thead>\n",
       "    <tr style=\"text-align: right;\">\n",
       "      <th></th>\n",
       "      <th>text</th>\n",
       "      <th>stars</th>\n",
       "    </tr>\n",
       "  </thead>\n",
       "  <tbody>\n",
       "    <tr>\n",
       "      <th>0</th>\n",
       "      <td>Went for lunch and found that my burger was me...</td>\n",
       "      <td>Negative</td>\n",
       "    </tr>\n",
       "    <tr>\n",
       "      <th>1</th>\n",
       "      <td>I needed a new tires for my wife's car. They h...</td>\n",
       "      <td>Positive</td>\n",
       "    </tr>\n",
       "    <tr>\n",
       "      <th>2</th>\n",
       "      <td>Jim Woltman who works at Goleta Honda is 5 sta...</td>\n",
       "      <td>Positive</td>\n",
       "    </tr>\n",
       "    <tr>\n",
       "      <th>3</th>\n",
       "      <td>Been here a few times to get some shrimp.  The...</td>\n",
       "      <td>Positive</td>\n",
       "    </tr>\n",
       "    <tr>\n",
       "      <th>4</th>\n",
       "      <td>This is one fantastic place to eat whether you...</td>\n",
       "      <td>Positive</td>\n",
       "    </tr>\n",
       "  </tbody>\n",
       "</table>\n",
       "</div>"
      ],
      "text/plain": [
       "                                                text     stars\n",
       "0  Went for lunch and found that my burger was me...  Negative\n",
       "1  I needed a new tires for my wife's car. They h...  Positive\n",
       "2  Jim Woltman who works at Goleta Honda is 5 sta...  Positive\n",
       "3  Been here a few times to get some shrimp.  The...  Positive\n",
       "4  This is one fantastic place to eat whether you...  Positive"
      ]
     },
     "execution_count": 5,
     "metadata": {},
     "output_type": "execute_result"
    }
   ],
   "source": [
    "def convert_sentiment(stars):\n",
    "    if stars > 3:\n",
    "        return 'Positive'\n",
    "    elif stars <= 2:\n",
    "        return 'Negative'\n",
    "    else:\n",
    "        return 'Neutral'\n",
    "\n",
    "df['stars'] = df['stars'].apply(convert_sentiment)\n",
    "\n",
    "df.head()"
   ]
  },
  {
   "cell_type": "code",
   "execution_count": 6,
   "metadata": {
    "id": "-0b1AS0WtZjS"
   },
   "outputs": [],
   "source": [
    "from nltk.corpus import stopwords\n",
    "\n",
    "def preprocess_data(text):\n",
    "    text = re.sub(r'[^\\w\\s]', '', text)                                         # removing punctuation\n",
    "    text = text.lower()                                                         # converting to lower case\n",
    "\n",
    "    stop_words = set(stopwords.words('english'))                                # removing stop words\n",
    "    tokens = nltk.word_tokenize(text)\n",
    "    filtered_text = [word for word in tokens if word.lower() not in stop_words]\n",
    "\n",
    "    return ' '.join(filtered_text)"
   ]
  },
  {
   "cell_type": "code",
   "execution_count": 7,
   "metadata": {
    "colab": {
     "base_uri": "https://localhost:8080/",
     "height": 206
    },
    "id": "UWmDAvm0wSy1",
    "outputId": "bb93e37a-1142-4ae1-a16a-41e39da12ea9"
   },
   "outputs": [
    {
     "data": {
      "text/html": [
       "<div>\n",
       "<style scoped>\n",
       "    .dataframe tbody tr th:only-of-type {\n",
       "        vertical-align: middle;\n",
       "    }\n",
       "\n",
       "    .dataframe tbody tr th {\n",
       "        vertical-align: top;\n",
       "    }\n",
       "\n",
       "    .dataframe thead th {\n",
       "        text-align: right;\n",
       "    }\n",
       "</style>\n",
       "<table border=\"1\" class=\"dataframe\">\n",
       "  <thead>\n",
       "    <tr style=\"text-align: right;\">\n",
       "      <th></th>\n",
       "      <th>text</th>\n",
       "      <th>stars</th>\n",
       "    </tr>\n",
       "  </thead>\n",
       "  <tbody>\n",
       "    <tr>\n",
       "      <th>0</th>\n",
       "      <td>went lunch found burger meh obvious focus burg...</td>\n",
       "      <td>Negative</td>\n",
       "    </tr>\n",
       "    <tr>\n",
       "      <th>1</th>\n",
       "      <td>needed new tires wifes car special order next ...</td>\n",
       "      <td>Positive</td>\n",
       "    </tr>\n",
       "    <tr>\n",
       "      <th>2</th>\n",
       "      <td>jim woltman works goleta honda 5 stars knowled...</td>\n",
       "      <td>Positive</td>\n",
       "    </tr>\n",
       "    <tr>\n",
       "      <th>3</th>\n",
       "      <td>times get shrimp theyve got nice selection dif...</td>\n",
       "      <td>Positive</td>\n",
       "    </tr>\n",
       "    <tr>\n",
       "      <th>4</th>\n",
       "      <td>one fantastic place eat whether hungry need go...</td>\n",
       "      <td>Positive</td>\n",
       "    </tr>\n",
       "  </tbody>\n",
       "</table>\n",
       "</div>"
      ],
      "text/plain": [
       "                                                text     stars\n",
       "0  went lunch found burger meh obvious focus burg...  Negative\n",
       "1  needed new tires wifes car special order next ...  Positive\n",
       "2  jim woltman works goleta honda 5 stars knowled...  Positive\n",
       "3  times get shrimp theyve got nice selection dif...  Positive\n",
       "4  one fantastic place eat whether hungry need go...  Positive"
      ]
     },
     "execution_count": 7,
     "metadata": {},
     "output_type": "execute_result"
    }
   ],
   "source": [
    "df['text'] = df['text'].apply(preprocess_data)\n",
    "\n",
    "df.head()"
   ]
  },
  {
   "cell_type": "code",
   "execution_count": 8,
   "metadata": {
    "colab": {
     "base_uri": "https://localhost:8080/"
    },
    "id": "mxGiVbzMFxKB",
    "outputId": "1bdec52e-f0c0-4778-f1f9-3570cce9f696"
   },
   "outputs": [],
   "source": [
    "from sklearn.preprocessing import LabelEncoder\n",
    "label_encoder = LabelEncoder()\n",
    "y_train_encoded = label_encoder.fit_transform(df['stars'])"
   ]
  },
  {
   "cell_type": "markdown",
   "metadata": {
    "id": "lCgo2c3bvfCB"
   },
   "source": [
    "# Input data preparation"
   ]
  },
  {
   "cell_type": "code",
   "execution_count": 9,
   "metadata": {
    "colab": {
     "base_uri": "https://localhost:8080/"
    },
    "id": "qCkt_VY7vghU",
    "outputId": "492edae6-5c9a-4eec-f212-94c7c1175a47"
   },
   "outputs": [
    {
     "name": "stdout",
     "output_type": "stream",
     "text": [
      "356.48578883821534\n",
      "6\n",
      "3612\n"
     ]
    }
   ],
   "source": [
    "average_length  = df['text'].apply(len).mean()\n",
    "min_length      = df['text'].apply(len).min()\n",
    "max_length      = df['text'].apply(len).max()\n",
    "\n",
    "\n",
    "print(average_length)\n",
    "print(min_length)\n",
    "print(max_length)"
   ]
  },
  {
   "cell_type": "code",
   "execution_count": 10,
   "metadata": {
    "id": "4XDO7bYlwOnq"
   },
   "outputs": [],
   "source": [
    "sequence_length = 500"
   ]
  },
  {
   "cell_type": "code",
   "execution_count": 11,
   "metadata": {
    "colab": {
     "base_uri": "https://localhost:8080/"
    },
    "id": "j7HGNsrkxvdM",
    "outputId": "55bb32bb-1494-44ef-b48f-7164a0cbcf4a"
   },
   "outputs": [
    {
     "name": "stdout",
     "output_type": "stream",
     "text": [
      "Number of distinct words in input dataset: 148259\n"
     ]
    }
   ],
   "source": [
    "def word_count(dataset):\n",
    "    word_counts = {}\n",
    "    for sentence in dataset['text']:\n",
    "        for word in sentence.split():\n",
    "            word_counts[word] = word_counts.get(word, 0) + 1\n",
    "    return word_counts\n",
    "\n",
    "\n",
    "input_word_counts = word_count(df)\n",
    "input_word_counts = dict(sorted(input_word_counts.items(), key=lambda item: item[1], reverse=True))\n",
    "num_distinct_input_words = len(input_word_counts)\n",
    "vocab_size = num_distinct_input_words\n",
    "\n",
    "print(\"Number of distinct words in input dataset:\", num_distinct_input_words)"
   ]
  },
  {
   "cell_type": "code",
   "execution_count": 12,
   "metadata": {
    "colab": {
     "base_uri": "https://localhost:8080/"
    },
    "id": "ZuiBJN6OAYq8",
    "outputId": "ca51288e-fe31-426c-8540-5fdf7046cf73"
   },
   "outputs": [],
   "source": [
    "input_vectorization = layers.TextVectorization(\n",
    "                                                max_tokens = 30000,\n",
    "                                                output_mode = \"int\",\n",
    "                                                output_sequence_length = sequence_length,\n",
    "                                                standardize = None,\n",
    "                                            )\n",
    "\n",
    "input_vectorization.adapt(df['text'])"
   ]
  },
  {
   "cell_type": "markdown",
   "metadata": {
    "id": "Hv7yCG3F4BGS"
   },
   "source": [
    "# Transformer implementation"
   ]
  },
  {
   "cell_type": "code",
   "execution_count": 13,
   "metadata": {
    "id": "aPDlDgao4Dx6"
   },
   "outputs": [],
   "source": [
    "class TransformerEncoder(layers.Layer):\n",
    "    def __init__(self, embed_dim, latent_dim, num_heads, **kwargs):\n",
    "        super().__init__(**kwargs)\n",
    "        self.embed_dim = embed_dim\n",
    "        self.latent_dim = latent_dim\n",
    "        self.num_heads = num_heads\n",
    "        self.attention = layers.MultiHeadAttention(\n",
    "            num_heads=num_heads, key_dim=embed_dim\n",
    "        )\n",
    "        self.dense_proj = keras.Sequential(\n",
    "            [\n",
    "                layers.Dense(latent_dim, activation=\"relu\"),\n",
    "                layers.Dense(embed_dim),\n",
    "            ]\n",
    "        )\n",
    "        self.layernorm_1 = tf.keras.layers.LayerNormalization(epsilon=1e-6)\n",
    "        self.layernorm_2 = tf.keras.layers.LayerNormalization(epsilon=1e-6)\n",
    "        self.supports_masking = True\n",
    "\n",
    "    def call(self, inputs, mask=None):\n",
    "        attention_output = self.attention(query=inputs, value=inputs, key=inputs)\n",
    "        proj_input = self.layernorm_1(inputs + attention_output)\n",
    "        proj_output = self.dense_proj(proj_input)\n",
    "        return self.layernorm_2(proj_input + proj_output)\n",
    "\n",
    "    def get_config(self):\n",
    "        config = super().get_config()\n",
    "        config.update(\n",
    "            {\n",
    "                \"embed_dim\": self.embed_dim,\n",
    "                \"latent_dim\": self.latent_dim,\n",
    "                \"num_heads\": self.num_heads,\n",
    "            }\n",
    "        )\n",
    "        return config"
   ]
  },
  {
   "cell_type": "code",
   "execution_count": 14,
   "metadata": {
    "id": "vJLKSXa24679"
   },
   "outputs": [],
   "source": [
    "class PositionalEmbedding(layers.Layer):\n",
    "    def __init__(self, sequence_length, vocab_size, embed_dim, **kwargs):\n",
    "        super().__init__(**kwargs)\n",
    "        self.token_embeddings = layers.Embedding(\n",
    "            input_dim=vocab_size, output_dim=embed_dim\n",
    "        )\n",
    "        self.position_embeddings = layers.Embedding(\n",
    "            input_dim=sequence_length, output_dim=embed_dim\n",
    "        )\n",
    "        self.sequence_length = sequence_length\n",
    "        self.vocab_size = vocab_size\n",
    "        self.embed_dim = embed_dim\n",
    "\n",
    "    def call(self, inputs):\n",
    "        length = tf.shape(inputs)[-1]\n",
    "        positions = tf.range(start=0, limit=length, delta=1)\n",
    "        embedded_tokens = self.token_embeddings(inputs)\n",
    "        embedded_positions = self.position_embeddings(positions)\n",
    "        return embedded_tokens + embedded_positions\n",
    "\n",
    "    def compute_mask(self, inputs, mask=None):\n",
    "        return tf.math.not_equal(inputs, 0)\n",
    "\n",
    "    def get_config(self):\n",
    "        config = super().get_config()\n",
    "        config.update(\n",
    "            {\n",
    "                \"sequence_length\": self.sequence_length,\n",
    "                \"vocab_size\": self.vocab_size,\n",
    "                \"embed_dim\": self.embed_dim,\n",
    "            }\n",
    "        )\n",
    "        return config"
   ]
  },
  {
   "cell_type": "code",
   "execution_count": 15,
   "metadata": {
    "id": "crhrxsgxIH1P"
   },
   "outputs": [],
   "source": [
    "import numpy as np\n",
    "\n",
    "train_text = np.array(df['text'])\n",
    "train_text = input_vectorization(train_text)"
   ]
  },
  {
   "cell_type": "code",
   "execution_count": 16,
   "metadata": {
    "id": "OokI_62dPLM3"
   },
   "outputs": [],
   "source": [
    "configurations = [\n",
    "    {\"num_layers\": 1, \"embed_dim\": 32,  \"num_heads\": 2,  \"latent_dim\": 32,  \"dropout_rate\": 0.1, \"epochs\": 20},\n",
    "    {\"num_layers\": 2, \"embed_dim\": 64,  \"num_heads\": 4,  \"latent_dim\": 64,  \"dropout_rate\": 0.2, \"epochs\": 20},\n",
    "    {\"num_layers\": 3, \"embed_dim\": 128, \"num_heads\": 6,  \"latent_dim\": 128, \"dropout_rate\": 0.3, \"epochs\": 20},\n",
    "    {\"num_layers\": 4, \"embed_dim\": 256, \"num_heads\": 8,  \"latent_dim\": 256, \"dropout_rate\": 0.4, \"epochs\": 20},\n",
    "    {\"num_layers\": 5, \"embed_dim\": 512, \"num_heads\": 10, \"latent_dim\": 512, \"dropout_rate\": 0.5, \"epochs\": 1}\n",
    "]\n",
    "\n",
    "history_all = []"
   ]
  },
  {
   "cell_type": "code",
   "execution_count": null,
   "metadata": {
    "colab": {
     "base_uri": "https://localhost:8080/"
    },
    "id": "Dq8_7AbbC8SR",
    "outputId": "2c8faffe-6b62-48de-b69e-83a069872944"
   },
   "outputs": [
    {
     "name": "stdout",
     "output_type": "stream",
     "text": [
      "Epoch 1/20\n"
     ]
    },
    {
     "name": "stderr",
     "output_type": "stream",
     "text": [
      "WARNING: All log messages before absl::InitializeLog() is called are written to STDERR\n",
      "I0000 00:00:1702415194.252190  190611 device_compiler.h:186] Compiled cluster using XLA!  This line is logged at most once for the lifetime of the process.\n"
     ]
    },
    {
     "name": "stdout",
     "output_type": "stream",
     "text": [
      "4368/4369 [============================>.] - ETA: 0s - loss: 0.3835 - accuracy: 0.8552\n",
      "Epoch 1: val_accuracy improved from -inf to 0.86770, saving model to ml_transformer_layers_1_embed_dim32_heads2_latent_dim32_dropout10.h5\n",
      "4369/4369 [==============================] - 205s 45ms/step - loss: 0.3834 - accuracy: 0.8552 - val_loss: 0.3401 - val_accuracy: 0.8677 - lr: 0.0010\n",
      "Epoch 2/20\n",
      "4365/4369 [============================>.] - ETA: 0s - loss: 0.3051 - accuracy: 0.8825\n",
      "Epoch 2: val_accuracy improved from 0.86770 to 0.86793, saving model to ml_transformer_layers_1_embed_dim32_heads2_latent_dim32_dropout10.h5\n",
      "4369/4369 [==============================] - 66s 15ms/step - loss: 0.3050 - accuracy: 0.8826 - val_loss: 0.3520 - val_accuracy: 0.8679 - lr: 0.0010\n",
      "Epoch 3/20\n",
      "4367/4369 [============================>.] - ETA: 0s - loss: 0.2665 - accuracy: 0.8954\n",
      "Epoch 3: val_accuracy did not improve from 0.86793\n",
      "4369/4369 [==============================] - 59s 13ms/step - loss: 0.2665 - accuracy: 0.8954 - val_loss: 0.3682 - val_accuracy: 0.8618 - lr: 0.0010\n",
      "Epoch 4/20\n",
      "4365/4369 [============================>.] - ETA: 0s - loss: 0.2320 - accuracy: 0.9083\n",
      "Epoch 4: val_accuracy did not improve from 0.86793\n",
      "4369/4369 [==============================] - 53s 12ms/step - loss: 0.2319 - accuracy: 0.9083 - val_loss: 0.4494 - val_accuracy: 0.8575 - lr: 0.0010\n",
      "Epoch 5/20\n",
      "4366/4369 [============================>.] - ETA: 0s - loss: 0.1990 - accuracy: 0.9203\n",
      "Epoch 5: val_accuracy did not improve from 0.86793\n",
      "4369/4369 [==============================] - 53s 12ms/step - loss: 0.1990 - accuracy: 0.9203 - val_loss: 0.5116 - val_accuracy: 0.8504 - lr: 0.0010\n",
      "Epoch 6/20\n",
      "4365/4369 [============================>.] - ETA: 0s - loss: 0.1722 - accuracy: 0.9297\n",
      "Epoch 6: ReduceLROnPlateau reducing learning rate to 0.00020000000949949026.\n",
      "\n",
      "Epoch 6: val_accuracy did not improve from 0.86793\n",
      "4369/4369 [==============================] - 52s 12ms/step - loss: 0.1723 - accuracy: 0.9297 - val_loss: 0.5872 - val_accuracy: 0.8508 - lr: 0.0010\n",
      "Epoch 7/20\n",
      "4365/4369 [============================>.] - ETA: 0s - loss: 0.1205 - accuracy: 0.9480Restoring model weights from the end of the best epoch: 2.\n",
      "\n",
      "Epoch 7: val_accuracy did not improve from 0.86793\n",
      "4369/4369 [==============================] - 50s 11ms/step - loss: 0.1204 - accuracy: 0.9480 - val_loss: 0.7141 - val_accuracy: 0.8511 - lr: 2.0000e-04\n",
      "Epoch 7: early stopping\n"
     ]
    },
    {
     "data": {
      "image/png": "[encoded data removed]",
      "text/plain": [
       "<Figure size 864x360 with 2 Axes>"
      ]
     },
     "metadata": {
      "needs_background": "light"
     },
     "output_type": "display_data"
    },
    {
     "name": "stdout",
     "output_type": "stream",
     "text": [
      "Epoch 1/20\n",
      "4368/4369 [============================>.] - ETA: 0s - loss: 0.3919 - accuracy: 0.8537\n",
      "Epoch 1: val_accuracy improved from -inf to 0.86461, saving model to ml_transformer_layers_2_embed_dim64_heads4_latent_dim64_dropout20.h5\n",
      "4369/4369 [==============================] - 270s 60ms/step - loss: 0.3919 - accuracy: 0.8537 - val_loss: 0.3515 - val_accuracy: 0.8646 - lr: 0.0010\n",
      "Epoch 2/20\n",
      "4367/4369 [============================>.] - ETA: 0s - loss: 0.3128 - accuracy: 0.8798\n",
      "Epoch 2: val_accuracy did not improve from 0.86461\n",
      "4369/4369 [==============================] - 102s 23ms/step - loss: 0.3129 - accuracy: 0.8798 - val_loss: 0.3559 - val_accuracy: 0.8630 - lr: 0.0010\n",
      "Epoch 3/20\n",
      "4368/4369 [============================>.] - ETA: 0s - loss: 0.2747 - accuracy: 0.8940\n",
      "Epoch 3: val_accuracy did not improve from 0.86461\n",
      "4369/4369 [==============================] - 95s 22ms/step - loss: 0.2746 - accuracy: 0.8940 - val_loss: 0.3738 - val_accuracy: 0.8601 - lr: 0.0010\n",
      "Epoch 4/20\n",
      "4368/4369 [============================>.] - ETA: 0s - loss: 0.2411 - accuracy: 0.9047\n",
      "Epoch 4: val_accuracy did not improve from 0.86461\n",
      "4369/4369 [==============================] - 89s 20ms/step - loss: 0.2411 - accuracy: 0.9047 - val_loss: 0.4235 - val_accuracy: 0.8572 - lr: 0.0010\n",
      "Epoch 5/20\n",
      "4368/4369 [============================>.] - ETA: 0s - loss: 0.2136 - accuracy: 0.9165\n",
      "Epoch 5: val_accuracy did not improve from 0.86461\n",
      "4369/4369 [==============================] - 90s 21ms/step - loss: 0.2136 - accuracy: 0.9165 - val_loss: 0.4875 - val_accuracy: 0.8548 - lr: 0.0010\n",
      "Epoch 6/20\n",
      "4367/4369 [============================>.] - ETA: 0s - loss: 0.1890 - accuracy: 0.9260\n",
      "Epoch 6: ReduceLROnPlateau reducing learning rate to 0.00020000000949949026.\n",
      "Restoring model weights from the end of the best epoch: 1.\n",
      "\n",
      "Epoch 6: val_accuracy did not improve from 0.86461\n",
      "4369/4369 [==============================] - 88s 20ms/step - loss: 0.1890 - accuracy: 0.9260 - val_loss: 0.5155 - val_accuracy: 0.8490 - lr: 0.0010\n",
      "Epoch 6: early stopping\n"
     ]
    },
    {
     "data": {
      "image/png": "[encoded data removed]",
      "text/plain": [
       "<Figure size 864x360 with 2 Axes>"
      ]
     },
     "metadata": {
      "needs_background": "light"
     },
     "output_type": "display_data"
    },
    {
     "name": "stdout",
     "output_type": "stream",
     "text": [
      "Epoch 1/20\n",
      "4368/4369 [============================>.] - ETA: 0s - loss: 0.4350 - accuracy: 0.8411\n",
      "Epoch 1: val_accuracy improved from -inf to 0.85446, saving model to ml_transformer_layers_3_embed_dim128_heads6_latent_dim128_dropout30.h5\n",
      "4369/4369 [==============================] - 253s 56ms/step - loss: 0.4350 - accuracy: 0.8411 - val_loss: 0.3883 - val_accuracy: 0.8545 - lr: 0.0010\n",
      "Epoch 2/20\n",
      "4368/4369 [============================>.] - ETA: 0s - loss: 0.3773 - accuracy: 0.8579\n",
      "Epoch 2: val_accuracy did not improve from 0.85446\n",
      "4369/4369 [==============================] - 196s 45ms/step - loss: 0.3773 - accuracy: 0.8579 - val_loss: 0.4719 - val_accuracy: 0.8344 - lr: 0.0010\n",
      "Epoch 3/20\n",
      "4368/4369 [============================>.] - ETA: 0s - loss: 0.4018 - accuracy: 0.8526\n",
      "Epoch 3: val_accuracy did not improve from 0.85446\n",
      "4369/4369 [==============================] - 192s 44ms/step - loss: 0.4018 - accuracy: 0.8526 - val_loss: 0.4359 - val_accuracy: 0.8401 - lr: 0.0010\n",
      "Epoch 4/20\n",
      "4368/4369 [============================>.] - ETA: 0s - loss: 0.3400 - accuracy: 0.8689\n",
      "Epoch 4: val_accuracy did not improve from 0.85446\n",
      "4369/4369 [==============================] - 191s 44ms/step - loss: 0.3400 - accuracy: 0.8689 - val_loss: 0.3898 - val_accuracy: 0.8537 - lr: 0.0010\n",
      "Epoch 5/20\n",
      "4369/4369 [==============================] - ETA: 0s - loss: 0.3294 - accuracy: 0.8722\n",
      "Epoch 5: val_accuracy did not improve from 0.85446\n",
      "4369/4369 [==============================] - 190s 44ms/step - loss: 0.3294 - accuracy: 0.8722 - val_loss: 0.3955 - val_accuracy: 0.8534 - lr: 0.0010\n",
      "Epoch 6/20\n",
      "4368/4369 [============================>.] - ETA: 0s - loss: 0.4022 - accuracy: 0.8492\n",
      "Epoch 6: ReduceLROnPlateau reducing learning rate to 0.00020000000949949026.\n",
      "Restoring model weights from the end of the best epoch: 1.\n",
      "\n",
      "Epoch 6: val_accuracy did not improve from 0.85446\n",
      "4369/4369 [==============================] - 191s 44ms/step - loss: 0.4022 - accuracy: 0.8492 - val_loss: 0.4759 - val_accuracy: 0.8355 - lr: 0.0010\n",
      "Epoch 6: early stopping\n"
     ]
    },
    {
     "data": {
      "image/png": "[encoded data removed]",
      "text/plain": [
       "<Figure size 864x360 with 2 Axes>"
      ]
     },
     "metadata": {
      "needs_background": "light"
     },
     "output_type": "display_data"
    },
    {
     "name": "stdout",
     "output_type": "stream",
     "text": [
      "Epoch 1/20\n",
      "4369/4369 [==============================] - ETA: 0s - loss: 0.8508 - accuracy: 0.6689\n",
      "Epoch 1: val_accuracy improved from -inf to 0.67178, saving model to ml_transformer_layers_4_embed_dim256_heads8_latent_dim256_dropout40.h5\n",
      "4369/4369 [==============================] - 608s 136ms/step - loss: 0.8508 - accuracy: 0.6689 - val_loss: 0.8369 - val_accuracy: 0.6718 - lr: 0.0010\n",
      "Epoch 2/20\n",
      "4369/4369 [==============================] - ETA: 0s - loss: 0.8385 - accuracy: 0.6702\n",
      "Epoch 2: val_accuracy did not improve from 0.67178\n",
      "4369/4369 [==============================] - 575s 132ms/step - loss: 0.8385 - accuracy: 0.6702 - val_loss: 0.8342 - val_accuracy: 0.6718 - lr: 0.0010\n",
      "Epoch 3/20\n",
      "4369/4369 [==============================] - ETA: 0s - loss: 0.8357 - accuracy: 0.6702\n",
      "Epoch 3: val_accuracy did not improve from 0.67178\n",
      "4369/4369 [==============================] - 579s 133ms/step - loss: 0.8357 - accuracy: 0.6702 - val_loss: 0.8336 - val_accuracy: 0.6718 - lr: 0.0010\n",
      "Epoch 4/20\n",
      "4369/4369 [==============================] - ETA: 0s - loss: 0.8354 - accuracy: 0.6702\n",
      "Epoch 4: val_accuracy did not improve from 0.67178\n",
      "4369/4369 [==============================] - 570s 130ms/step - loss: 0.8354 - accuracy: 0.6702 - val_loss: 0.8336 - val_accuracy: 0.6718 - lr: 0.0010\n",
      "Epoch 5/20\n",
      "3528/4369 [=======================>......] - ETA: 1:40 - loss: 0.8364 - accuracy: 0.6698"
     ]
    }
   ],
   "source": [
    "from keras.layers import GlobalAveragePooling1D, Dropout, Dense\n",
    "from tensorflow.keras.layers import GlobalAveragePooling1D, Dropout, Dense\n",
    "from keras.models import Model\n",
    "import matplotlib.pyplot as plt\n",
    "\n",
    "\n",
    "for model_config in configurations:\n",
    "  encoder_inputs = keras.Input(shape=(500,), dtype=\"int64\", name=\"encoder_inputs\")\n",
    "  x = PositionalEmbedding(sequence_length, vocab_size, model_config[\"embed_dim\"])(encoder_inputs)\n",
    "    \n",
    "  for i in range(model_config[\"num_layers\"]):\n",
    "      x = TransformerEncoder(model_config[\"embed_dim\"], model_config[\"latent_dim\"], model_config[\"num_heads\"])(x)\n",
    "  dropout_rate = model_config['dropout_rate']\n",
    "\n",
    "  x = GlobalAveragePooling1D()(x)\n",
    "  x = Dropout(dropout_rate)(x)\n",
    "  x = Dense(model_config[\"embed_dim\"], activation=\"relu\")(x)\n",
    "  x = Dropout(dropout_rate)(x)\n",
    "  outputs = Dense(3, activation=\"softmax\")(x)\n",
    "  model = Model(inputs=encoder_inputs, outputs=outputs)\n",
    "\n",
    "  checkpoint_file_name = f\"ml_transformer_layers_{model_config['num_layers']}_embed_dim{model_config['embed_dim']}_heads{model_config['num_heads']}_latent_dim{model_config['latent_dim']}_dropout{int(dropout_rate*100)}.h5\"\n",
    "\n",
    "  callbacks = [tf.keras.callbacks.ReduceLROnPlateau(monitor='val_loss', factor=0.2, patience=5, verbose=1),\n",
    "              tf.keras.callbacks.EarlyStopping(monitor='val_accuracy', patience=5, verbose=1, restore_best_weights=True),\n",
    "              tf.keras.callbacks.ModelCheckpoint(filepath=checkpoint_file_name, save_best_only=True, monitor=\"val_accuracy\", verbose=1)]\n",
    "\n",
    "\n",
    "  model.compile(optimizer=\"adam\", loss=\"sparse_categorical_crossentropy\", metrics=[\"accuracy\"])\n",
    "\n",
    "\n",
    "  history = model.fit(train_text, y_train_encoded, epochs=model_config['epochs'], batch_size=32, validation_split=0.2, callbacks=callbacks)\n",
    "\n",
    "  accuracy = history.history[\"accuracy\"]\n",
    "  val_accuracy = history.history[\"val_accuracy\"]\n",
    "  loss = history.history[\"loss\"]\n",
    "  val_loss = history.history[\"val_loss\"]\n",
    "  epochs = range(1, len(accuracy) + 1)\n",
    "\n",
    "  fig, (ax1, ax2) = plt.subplots(1, 2, figsize=(12, 5))\n",
    "\n",
    "  training_line_color = '#1f77b4' \n",
    "  validation_line_color = '#ff7f0e'\n",
    "\n",
    "  ax1.plot(epochs, accuracy, marker='o', color=training_line_color, label=\"Training accuracy\")\n",
    "  ax1.plot(epochs, val_accuracy, marker='s', color=validation_line_color, label=\"Validation accuracy\")\n",
    "  ax1.set_title(\"Training and Validation Accuracy\", fontsize=14)\n",
    "  ax1.set_xlabel(\"Epochs\", fontsize=12)\n",
    "  ax1.set_ylabel(\"Accuracy\", fontsize=12)\n",
    "  ax1.legend()\n",
    "  ax1.grid(True)\n",
    "\n",
    "  ax2.plot(epochs, loss, marker='o', color=training_line_color, label=\"Training loss\")\n",
    "  ax2.plot(epochs, val_loss, marker='s', color=validation_line_color, label=\"Validation loss\")\n",
    "  ax2.set_title(\"Training and Validation Loss\", fontsize=14)\n",
    "  ax2.set_xlabel(\"Epochs\", fontsize=12)\n",
    "  ax2.set_ylabel(\"Loss\", fontsize=12)\n",
    "  ax2.legend()\n",
    "  ax2.grid(True)\n",
    "\n",
    "  plt.tight_layout()\n",
    "  plt.show()"
   ]
  },
  {
   "cell_type": "code",
   "execution_count": null,
   "metadata": {},
   "outputs": [],
   "source": [
    "df_test = pd.read_csv('yelp_review_test.csv')\n",
    "\n",
    "df_test.head()"
   ]
  },
  {
   "cell_type": "code",
   "execution_count": null,
   "metadata": {},
   "outputs": [],
   "source": [
    "df_test['stars'] = df_test['stars'].apply(convert_sentiment)\n",
    "\n",
    "df_test.head()"
   ]
  },
  {
   "cell_type": "code",
   "execution_count": null,
   "metadata": {},
   "outputs": [],
   "source": [
    "df_test['text'] = df_test['text'].apply(preprocess_data)\n",
    "\n",
    "df_test.head()"
   ]
  },
  {
   "cell_type": "code",
   "execution_count": null,
   "metadata": {},
   "outputs": [],
   "source": [
    "from sklearn.preprocessing import LabelEncoder\n",
    "label_encoder = LabelEncoder()\n",
    "y_test_encoded = label_encoder.fit_transform(df_test['stars'])"
   ]
  },
  {
   "cell_type": "code",
   "execution_count": null,
   "metadata": {},
   "outputs": [],
   "source": [
    "from tensorflow.keras.models import load_model\n",
    "from tensorflow.keras.utils import custom_object_scope\n",
    "import numpy as np\n",
    "\n",
    "\n",
    "test_text = np.array(df_test['text'])\n",
    "test_text = input_vectorization(test_text)\n",
    "\n",
    "\n",
    "with custom_object_scope({'PositionalEmbedding': PositionalEmbedding, 'TransformerEncoder': TransformerEncoder}):\n",
    "    best_model = load_model(\"ml_transformer_layers_1_embed_dim32_heads2_latent_dim32_dropout10.h5\")\n",
    "\n",
    "\n",
    "test_loss, test_accuracy = best_model.evaluate(test_text, y_test_encoded)\n",
    "print(f\"Test Loss: {test_loss}\")\n",
    "print(f\"Test Accuracy: {test_accuracy * 100:.2f}%\")"
   ]
  },
  {
   "cell_type": "code",
   "execution_count": null,
   "metadata": {},
   "outputs": [],
   "source": [
    "from sklearn.metrics import confusion_matrix\n",
    "import seaborn as sns\n",
    "import matplotlib.pyplot as plt\n",
    "\n",
    "# Assume 'predictions' is an array of your model's predictions\n",
    "predictions = best_model.predict(test_text)\n",
    "predicted_classes = np.argmax(predictions, axis=1)\n",
    "\n",
    "# Generating the confusion matrix\n",
    "cm = confusion_matrix(y_test_encoded, predicted_classes)\n",
    "\n",
    "# Plotting the confusion matrix\n",
    "plt.figure(figsize=(10, 8))\n",
    "sns.heatmap(cm, annot=True, fmt='d')\n",
    "plt.xlabel('Predicted')\n",
    "plt.ylabel('True')\n",
    "plt.show()"
   ]
  },
  {
   "cell_type": "code",
   "execution_count": null,
   "metadata": {},
   "outputs": [],
   "source": [
    "# Obtaining prediction probabilities\n",
    "prediction_probabilities = best_model.predict(test_text)"
   ]
  },
  {
   "cell_type": "code",
   "execution_count": null,
   "metadata": {},
   "outputs": [],
   "source": [
    "from sklearn.preprocessing import label_binarize\n",
    "from sklearn.metrics import roc_curve, auc\n",
    "from itertools import cycle\n",
    "\n",
    "n_classes = 3\n",
    "\n",
    "# Assuming y_test_encoded is your test labels and n_classes is the number of classes\n",
    "y_test_binarized = label_binarize(y_test_encoded, classes=[*range(n_classes)])\n",
    "\n",
    "# Compute ROC curve and ROC area for each class\n",
    "fpr = dict()\n",
    "tpr = dict()\n",
    "roc_auc = dict()\n",
    "for i in range(n_classes):\n",
    "    fpr[i], tpr[i], _ = roc_curve(y_test_binarized[:, i], prediction_probabilities[:, i])\n",
    "    roc_auc[i] = auc(fpr[i], tpr[i])\n",
    "\n",
    "# Plotting\n",
    "plt.figure(figsize=(8, 6))\n",
    "colors = cycle(['blue', 'red', 'green'])\n",
    "for i, color in zip(range(n_classes), colors):\n",
    "    plt.plot(fpr[i], tpr[i], color=color, lw=2,\n",
    "             label='ROC curve of class {0} (area = {1:0.2f})'.format(i, roc_auc[i]))\n",
    "\n",
    "plt.plot([0, 1], [0, 1], 'k--', lw=2)\n",
    "plt.xlim([0.0, 1.0])\n",
    "plt.ylim([0.0, 1.05])\n",
    "plt.xlabel('False Positive Rate')\n",
    "plt.ylabel('True Positive Rate')\n",
    "plt.title('Multi-class ROC and AUC')\n",
    "plt.legend(loc=\"lower right\")\n",
    "plt.show()"
   ]
  },
  {
   "cell_type": "markdown",
   "metadata": {},
   "source": [
    "As number of attention layers increases, model tends to overfit. Transformer is very power and even with one encoding layer and 2 attention heads, model was able to achieve a performace of 87%. But as number of encoding layers, attention heads increases it tends to overfit."
   ]
  }
 ],
 "metadata": {
  "accelerator": "GPU",
  "colab": {
   "gpuType": "T4",
   "provenance": []
  },
  "kernelspec": {
   "display_name": "Python 3 (ipykernel)",
   "language": "python",
   "name": "python3"
  },
  "language_info": {
   "codemirror_mode": {
    "name": "ipython",
    "version": 3
   },
   "file_extension": ".py",
   "mimetype": "text/x-python",
   "name": "python",
   "nbconvert_exporter": "python",
   "pygments_lexer": "ipython3",
   "version": "3.9.7"
  }
 },
 "nbformat": 4,
 "nbformat_minor": 4
}
